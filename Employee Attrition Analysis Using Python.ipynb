{
 "cells": [
  {
   "cell_type": "code",
   "execution_count": null,
   "id": "b5268870",
   "metadata": {},
   "outputs": [],
   "source": [
    "import pandas as pd\n",
    "import seaborn as sns\n",
    "import matplotlib.pyplot as plt\n",
    "\n"
   ]
  },
  {
   "cell_type": "code",
   "execution_count": null,
   "id": "d3583e48",
   "metadata": {},
   "outputs": [],
   "source": [
    "# Load dataset (change file path as needed)\n",
    "df = pd.read_csv(\"D:/1 - Employee Attrition Analysis/HR-Employee-Attrition.csv\")"
   ]
  },
  {
   "cell_type": "code",
   "execution_count": null,
   "id": "5836f770",
   "metadata": {},
   "outputs": [],
   "source": [
    "if df['Attrition'].dtype == 'object':\n",
    "    df['Attrition_Flag'] = df['Attrition'].apply(lambda x: 1 if x.lower() == 'yes' else 0)\n",
    "else:\n",
    "    df['Attrition_Flag'] = df['Attrition']\n",
    "\n",
    "\n"
   ]
  },
  {
   "cell_type": "code",
   "execution_count": null,
   "id": "8dfe795b",
   "metadata": {},
   "outputs": [],
   "source": [
    "\n",
    "# Plot Overall Attrition Rate\n",
    "def plot_overall_attrition_rate(df):\n",
    "    attrition_counts = df['Attrition_Flag'].value_counts()\n",
    "    labels = ['Stayed', 'Left']\n",
    "    plt.figure(figsize=(4,4))\n",
    "    plt.pie(attrition_counts, labels=labels, autopct='%1.1f%%', colors=['#70c1b3','#f76c6c'])\n",
    "    plt.title('Overall Employee Attrition Rate')\n",
    "    plt.show()\n",
    "\n",
    "plot_overall_attrition_rate(df)\n"
   ]
  },
  {
   "cell_type": "code",
   "execution_count": null,
   "id": "648144e6",
   "metadata": {},
   "outputs": [],
   "source": [
    "\n",
    "def plot_department_attrition(df):\n",
    "    dept_attrition = df.groupby('Department')['Attrition_Flag'].mean()\n",
    "    top_5_high = dept_attrition.sort_values(ascending=False).head(5)\n",
    "    top_5_low = dept_attrition.sort_values(ascending=True).head(5)\n",
    "\n",
    "    plt.figure(figsize=(10,5))\n",
    "    sns.barplot(x=top_5_high.index, y=top_5_high.values, palette='Reds')\n",
    "    plt.title('Top 5 Departments with Highest Attrition Rates')\n",
    "    plt.ylabel('Attrition Rate')\n",
    "    plt.xticks(rotation=30)\n",
    "    plt.show()\n",
    "\n",
    "    plt.figure(figsize=(10,5))\n",
    "    sns.barplot(x=top_5_low.index, y=top_5_low.values, palette='Greens')\n",
    "    plt.title('Top 5 Departments with Lowest Attrition Rates')\n",
    "    plt.ylabel('Attrition Rate')\n",
    "    plt.xticks(rotation=30)\n",
    "    plt.show()\n",
    "\n",
    "plot_department_attrition(df)\n"
   ]
  },
  {
   "cell_type": "code",
   "execution_count": null,
   "id": "aefe5ff2",
   "metadata": {},
   "outputs": [],
   "source": [
    "\n",
    "def plot_satisfaction_violin(df):\n",
    "    plt.figure(figsize=(10,6))\n",
    "    sns.violinplot(x='Attrition_Flag', y='JobSatisfaction', data=df, palette='pastel')\n",
    "    plt.title('Job Satisfaction by Attrition Status (0=Stayed, 1=Left)')\n",
    "    plt.xlabel('Attrition Flag')\n",
    "    plt.ylabel('Job Satisfaction')\n",
    "    plt.show()\n",
    "\n",
    "    plt.figure(figsize=(10,6))\n",
    "    sns.violinplot(x='Attrition_Flag', y='EnvironmentSatisfaction', data=df, palette='cool')\n",
    "    plt.title('Environment Satisfaction by Attrition Status (0=Stayed, 1=Left)')\n",
    "    plt.xlabel('Attrition Flag')\n",
    "    plt.ylabel('Environment Satisfaction')\n",
    "    plt.show()\n",
    "\n",
    "plot_satisfaction_violin(df)\n"
   ]
  },
  {
   "cell_type": "code",
   "execution_count": null,
   "id": "8be52228",
   "metadata": {},
   "outputs": [],
   "source": [
    "\n",
    "def plot_attrition_by_job_level(df):\n",
    "    job_level_attrition = df.groupby('JobLevel')['Attrition_Flag'].mean()\n",
    "    plt.figure(figsize=(8,5))\n",
    "    sns.barplot(x=job_level_attrition.index, y=job_level_attrition.values, palette='Blues')\n",
    "    plt.title('Attrition Rate by Job Level')\n",
    "    plt.xlabel('Job Level')\n",
    "    plt.ylabel('Attrition Rate')\n",
    "    plt.show()\n",
    "\n",
    "plot_attrition_by_job_level(df)\n"
   ]
  },
  {
   "cell_type": "code",
   "execution_count": null,
   "id": "65dec440",
   "metadata": {},
   "outputs": [],
   "source": [
    "\n",
    "# Visualization for Job Roles & Attrition\n",
    "def plot_attrition_by_job_role(df):\n",
    "    job_role_attrition = df.groupby('JobRole')['Attrition_Flag'].mean().sort_values(ascending=False)\n",
    "    plt.figure(figsize=(12,6))\n",
    "    sns.barplot(x=job_role_attrition.index, y=job_role_attrition.values, palette='muted')\n",
    "    plt.title('Attrition Rate by Job Role')\n",
    "    plt.xlabel('Job Role')\n",
    "    plt.ylabel('Attrition Rate')\n",
    "    plt.xticks(rotation=45)\n",
    "    plt.show()\n",
    "\n",
    "plot_attrition_by_job_role(df)\n"
   ]
  }
 ],
 "metadata": {
  "kernelspec": {
   "display_name": "Python 3",
   "language": "python",
   "name": "python3"
  },
  "language_info": {
   "codemirror_mode": {
    "name": "ipython",
    "version": 3
   },
   "file_extension": ".py",
   "mimetype": "text/x-python",
   "name": "python",
   "nbconvert_exporter": "python",
   "pygments_lexer": "ipython3",
   "version": "3.13.5"
  }
 },
 "nbformat": 4,
 "nbformat_minor": 5
}
